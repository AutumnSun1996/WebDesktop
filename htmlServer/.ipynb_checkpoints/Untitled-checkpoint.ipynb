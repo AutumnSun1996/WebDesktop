{
 "cells": [
  {
   "cell_type": "code",
   "execution_count": 6,
   "metadata": {},
   "outputs": [],
   "source": [
    "import os\n",
    "import time\n",
    "import sys\n",
    "from functools import lru_cache\n",
    "\n",
    "import cv2 as cv\n",
    "import numpy as np\n",
    "\n",
    "import win32con\n",
    "import win32api\n",
    "import win32ui\n",
    "import win32gui\n",
    "import win32process\n",
    "import ctypes\n",
    "\n",
    "from configs import config\n",
    "import logging\n",
    "\n",
    "logger = logging.getLogger(__name__)\n"
   ]
  },
  {
   "cell_type": "code",
   "execution_count": 30,
   "metadata": {},
   "outputs": [],
   "source": [
    "WindowHWND = {}\n",
    "WindowSize = {}\n",
    "SideBar = {}\n",
    "\n",
    "# @lru_cache(maxsize=32)\n",
    "def get_window_hwnd(title):\n",
    "    hwnd = win32gui.FindWindow(None, title)\n",
    "    logger.info(\"Get hwnd=%s for name=%s\", hwnd, title)\n",
    "    return hwnd\n",
    "\n",
    "def get_sidebar_hwnd(title):\n",
    "    hwnd = get_window_hwnd(title)\n",
    "    cur_tid, cur_pid = win32process.GetWindowThreadProcessId(hwnd)\n",
    "\n",
    "    def callback(hwnd, info):\n",
    "        tid, pid = win32process.GetWindowThreadProcessId(hwnd)\n",
    "        if pid != info[\"pid\"]:\n",
    "            return True\n",
    "        print(hwnd, tid, pid, text, size)\n",
    "        text = win32gui.GetWindowText(hwnd)\n",
    "        if text != \"通过键盘调节GPS方位和移动速度\":\n",
    "            return True\n",
    "        rect = win32gui.GetWindowRect(hwnd)\n",
    "        size = (rect[2]-rect[0], rect[3]-rect[1])\n",
    "        if size != (40,754):\n",
    "            return True\n",
    "        info[\"found\"] = hwnd\n",
    "        return False\n",
    "\n",
    "    info = {\"tid\": cur_tid, \"pid\": cur_pid, \"found\": []}\n",
    "    try:\n",
    "        win32gui.EnumThreadWindows(cur_tid, callback, info)\n",
    "    except:\n",
    "        pass\n",
    "    return info[\"found\"]\n"
   ]
  },
  {
   "cell_type": "code",
   "execution_count": 44,
   "metadata": {},
   "outputs": [
    {
     "name": "stderr",
     "output_type": "stream",
     "text": [
      "INFO:__main__:Get hwnd=0 for name=FGO\n"
     ]
    },
    {
     "data": {
      "text/plain": [
       "[]"
      ]
     },
     "execution_count": 44,
     "metadata": {},
     "output_type": "execute_result"
    }
   ],
   "source": [
    "get_sidebar_hwnd(\"FGO\")"
   ]
  },
  {
   "cell_type": "code",
   "execution_count": 51,
   "metadata": {},
   "outputs": [
    {
     "name": "stderr",
     "output_type": "stream",
     "text": [
      "INFO:__main__:Get hwnd=265408 for name=FGO\n"
     ]
    },
    {
     "name": "stdout",
     "output_type": "stream",
     "text": [
      "986410 (0,)\n",
      "通过键盘调节GPS方位和移动速度 Qt5QWindowToolSaveBits\n",
      "(374, 123, 1654, 163) (1280, 40)\n",
      "724090 (0,)\n",
      "Nox_1 Qt5QWindowToolSaveBits\n",
      "(1656, 91, 1696, 845) (40, 754)\n",
      "265408 (0,)\n",
      "FGO Qt5QWindowIcon\n",
      "265342 (0,)\n",
      "QTrayIconMessageWindow QTrayIconMessageWindowClass\n",
      "658362 (0,)\n",
      "通过键盘调节GPS方位和移动速度 Qt5QWindowToolSaveBits\n",
      "(770, 461, 1149, 578) (379, 117)\n",
      "3672720 (0,)\n",
      "MSCTFIME UI MSCTFIME UI\n",
      "330876 (0,)\n",
      "Default IME IME\n"
     ]
    }
   ],
   "source": [
    "cur_tid, cur_pid = win32process.GetWindowThreadProcessId(hwnd)\n",
    "\n",
    "def callback(hwnd, *args):\n",
    "    print(hwnd, args)\n",
    "    text = win32gui.GetWindowText(hwnd)\n",
    "    cls_str = win32gui.GetClassName(hwnd)\n",
    "    print(text, cls_str)\n",
    "    if cls_str != \"Qt5QWindowToolSaveBits\":\n",
    "        return True\n",
    "    rect = win32gui.GetWindowRect(hwnd)\n",
    "    size = (rect[2]-rect[0], rect[3]-rect[1])\n",
    "    print(rect, size)\n",
    "    return True\n",
    "\n",
    "hwnd = get_window_hwnd(\"FGO\")\n",
    "win32gui.EnumThreadWindows(cur_tid, callback, 0)"
   ]
  },
  {
   "cell_type": "code",
   "execution_count": null,
   "metadata": {},
   "outputs": [],
   "source": []
  },
  {
   "cell_type": "code",
   "execution_count": 32,
   "metadata": {},
   "outputs": [
    {
     "name": "stderr",
     "output_type": "stream",
     "text": [
      "INFO:__main__:Get hwnd=1444756 for name=FGO\n"
     ]
    },
    {
     "data": {
      "text/plain": [
       "1444756"
      ]
     },
     "execution_count": 32,
     "metadata": {},
     "output_type": "execute_result"
    }
   ],
   "source": [
    "get_window_hwnd(\"FGO\")"
   ]
  },
  {
   "cell_type": "code",
   "execution_count": 17,
   "metadata": {},
   "outputs": [
    {
     "data": {
      "text/plain": [
       "(145, 142, 1429, 896)"
      ]
     },
     "execution_count": 17,
     "metadata": {},
     "output_type": "execute_result"
    }
   ],
   "source": [
    "win32gui.GetWindowRect(1444756)"
   ]
  },
  {
   "cell_type": "code",
   "execution_count": 20,
   "metadata": {},
   "outputs": [
    {
     "data": {
      "text/plain": [
       "(1227, 558, 1447, 630)"
      ]
     },
     "execution_count": 20,
     "metadata": {},
     "output_type": "execute_result"
    }
   ],
   "source": [
    "win32gui.GetWindowRect(527316 )"
   ]
  },
  {
   "cell_type": "code",
   "execution_count": 27,
   "metadata": {},
   "outputs": [],
   "source": [
    "win32gui.SetWindowPos(592134, 0, 450, 50, 0, 0, win32con.SWP_NOZORDER | win32con.SWP_NOSIZE | win32con.SWP_NOACTIVATE)\n"
   ]
  },
  {
   "cell_type": "code",
   "execution_count": null,
   "metadata": {},
   "outputs": [],
   "source": []
  }
 ],
 "metadata": {
  "kernelspec": {
   "display_name": "Python 3",
   "language": "python",
   "name": "python3"
  },
  "language_info": {
   "codemirror_mode": {
    "name": "ipython",
    "version": 3
   },
   "file_extension": ".py",
   "mimetype": "text/x-python",
   "name": "python",
   "nbconvert_exporter": "python",
   "pygments_lexer": "ipython3",
   "version": "3.7.4"
  }
 },
 "nbformat": 4,
 "nbformat_minor": 2
}
